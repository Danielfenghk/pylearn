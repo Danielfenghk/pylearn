{
 "cells": [
  {
   "cell_type": "code",
   "execution_count": 18,
   "metadata": {},
   "outputs": [],
   "source": [
    "#!/usr/bin/env/python\n",
    "\n",
    "from datetime import datetime\n",
    "import numpy\n",
    "\n",
    "\"\"\"\n",
    " Chapter 1 of NumPy Beginners Guide.\n",
    " This program demonstrates vector addition the Python way.\n",
    " Run from the command line as follows\n",
    "     \n",
    "  python vectorsum.py n\n",
    " \n",
    " where n is an integer that specifies the size of the vectors.\n",
    "\n",
    " The first vector to be added contains the squares of 0 up to n. \n",
    " The second vector contains the cubes of 0 up to n.\n",
    " The program prints the last 2 elements of the sum and the elapsed time.\n",
    "\"\"\"\n",
    "\n",
    "def numpysum(n):\n",
    "   a = numpy.arange(n) ** 2\n",
    "   b = numpy.arange(n) ** 3\n",
    "   c = a + b\n",
    "\n",
    "   return c\n",
    "\n",
    "def pythonsum(n):\n",
    "    \"\"\"\n",
    "    In python3 range is a generator object - it does not return a list. Convert it to a list before shuffling.\n",
    "    \"\"\"\n",
    "    a = list(range(n))\n",
    "    b = list(range(n))\n",
    "    c = []\n",
    "\n",
    "    for i in range(len(a)):\n",
    "       a[i] = i ** 2\n",
    "       b[i] = i ** 3\n",
    "       c.append(a[i] + b[i])\n",
    "\n",
    "    return c\n",
    "   "
   ]
  },
  {
   "cell_type": "code",
   "execution_count": 19,
   "metadata": {},
   "outputs": [],
   "source": [
    "size = int(50)"
   ]
  },
  {
   "cell_type": "code",
   "execution_count": 20,
   "metadata": {},
   "outputs": [
    {
     "name": "stdout",
     "output_type": "stream",
     "text": [
      "The last 2 elements of the sum [112896, 120050]\n",
      "PythonSum elapsed time in microseconds 0\n"
     ]
    }
   ],
   "source": [
    "start = datetime.now()\n",
    "c = pythonsum(size)\n",
    "delta = datetime.now() - start\n",
    "print (\"The last 2 elements of the sum\", c[-2:])\n",
    "print (\"PythonSum elapsed time in microseconds\", delta.microseconds)"
   ]
  },
  {
   "cell_type": "code",
   "execution_count": 21,
   "metadata": {},
   "outputs": [
    {
     "name": "stdout",
     "output_type": "stream",
     "text": [
      "The last 2 elements of the sum [112896 120050]\n",
      "NumPySum elapsed time in microseconds 0\n"
     ]
    }
   ],
   "source": [
    "start = datetime.now()\n",
    "c = numpysum(size)\n",
    "delta = datetime.now() - start\n",
    "print (\"The last 2 elements of the sum\", c[-2:])\n",
    "print (\"NumPySum elapsed time in microseconds\", delta.microseconds)"
   ]
  },
  {
   "cell_type": "code",
   "execution_count": null,
   "metadata": {
    "collapsed": true
   },
   "outputs": [],
   "source": []
  }
 ],
 "metadata": {
  "kernelspec": {
   "display_name": "Python 3",
   "language": "python",
   "name": "python3"
  },
  "language_info": {
   "codemirror_mode": {
    "name": "ipython",
    "version": 3
   },
   "file_extension": ".py",
   "mimetype": "text/x-python",
   "name": "python",
   "nbconvert_exporter": "python",
   "pygments_lexer": "ipython3",
   "version": "3.6.3"
  }
 },
 "nbformat": 4,
 "nbformat_minor": 1
}
